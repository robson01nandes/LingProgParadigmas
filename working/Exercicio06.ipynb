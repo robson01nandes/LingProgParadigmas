{
 "cells": [
  {
   "cell_type": "markdown",
   "metadata": {},
   "source": [
    "1 Defina a função soma_nat que recebe como argumento um número natural n e devolve a soma de todos os números naturais até n.\n"
   ]
  },
  {
   "cell_type": "code",
   "execution_count": 6,
   "metadata": {
    "scrolled": true
   },
   "outputs": [
    {
     "name": "stdout",
     "output_type": "stream",
     "text": [
      "Número natural: 2\n",
      "3\n"
     ]
    }
   ],
   "source": [
    "def entrada():\n",
    "    while True:\n",
    "        n = int(input('Número natural: '))\n",
    "        if n < 0:\n",
    "            continue\n",
    "        else:\n",
    "            return n\n",
    "def soma_nat(n):\n",
    "    return 0 if n==0 else n+soma_nat(n-1)\n",
    "\n",
    "def run():\n",
    "    return soma_nat(entrada())\n",
    "\n",
    "print(run())"
   ]
  },
  {
   "cell_type": "code",
   "execution_count": 8,
   "metadata": {},
   "outputs": [],
   "source": [
    "assert(soma_nat(2)==3)"
   ]
  },
  {
   "cell_type": "markdown",
   "metadata": {},
   "source": [
    "2 Defina a função div que recebe como argumentos dois números naturais m e n e devolve o resultado da divisão inteira de m por n. "
   ]
  },
  {
   "cell_type": "code",
   "execution_count": 11,
   "metadata": {},
   "outputs": [
    {
     "name": "stdout",
     "output_type": "stream",
     "text": [
      "2\n"
     ]
    }
   ],
   "source": [
    "def div(m, n):\n",
    "    return 1 + div(m - n, n) if m >= n else 0\n",
    "print(div(4,2))"
   ]
  },
  {
   "cell_type": "code",
   "execution_count": 12,
   "metadata": {},
   "outputs": [],
   "source": [
    "assert(div(4,2) == 2)"
   ]
  },
  {
   "cell_type": "markdown",
   "metadata": {},
   "source": [
    "4 Defina a função prod_lista que recebe como argumento uma lista de inteiros e devolve o produto dos seus elementos."
   ]
  },
  {
   "cell_type": "code",
   "execution_count": 13,
   "metadata": {},
   "outputs": [
    {
     "name": "stdout",
     "output_type": "stream",
     "text": [
      "2\n"
     ]
    }
   ],
   "source": [
    "def prod_lista(lista):\n",
    "    return lista[len(lista) - 1] * prod_lista(lista[:-1]) if len(lista) > 0 else 1\n",
    "print(prod_lista([1,2]))"
   ]
  },
  {
   "cell_type": "code",
   "execution_count": 16,
   "metadata": {},
   "outputs": [],
   "source": [
    "assert(prod_lista([1,2,3,4,5,6])==720)"
   ]
  },
  {
   "cell_type": "markdown",
   "metadata": {},
   "source": [
    "5 Defina a função contem_parQ que recebe como argumento uma lista de números inteiros w e devolve True se w contém um número par e False em caso contrário."
   ]
  },
  {
   "cell_type": "code",
   "execution_count": 19,
   "metadata": {},
   "outputs": [
    {
     "name": "stdout",
     "output_type": "stream",
     "text": [
      "True\n"
     ]
    }
   ],
   "source": [
    "def contem_parQ(lista):\n",
    "    response = False if len(lista) == 0 or (lista[len(lista) - 1] % 2 != 0 and not contem_parQ(lista[:-1])) else True\n",
    "    return response\n",
    "print(contem_parQ([1,2]))"
   ]
  },
  {
   "cell_type": "code",
   "execution_count": 20,
   "metadata": {},
   "outputs": [],
   "source": [
    "assert(contem_parQ([2,3,1,2,3,4]) == True)\n",
    "assert(contem_parQ([1,3,5,7]) == False)"
   ]
  },
  {
   "cell_type": "markdown",
   "metadata": {},
   "source": [
    "6 Defina a função todos_imparesQ que recebe como argumento uma lista de números inteiros w e devolve True se w contém apenas números ímpares e False em caso contrário."
   ]
  },
  {
   "cell_type": "code",
   "execution_count": 22,
   "metadata": {},
   "outputs": [
    {
     "name": "stdout",
     "output_type": "stream",
     "text": [
      "False\n"
     ]
    }
   ],
   "source": [
    "def todos_imparesQ(lista):\n",
    "    response = False\n",
    "    if len(lista) == 0 or (lista[len(lista) - 1] % 2 != 0 and todos_imparesQ(lista[:-1])):\n",
    "        response = True\n",
    "    return response\n",
    "print(todos_imparesQ([1,4,5]))"
   ]
  },
  {
   "cell_type": "code",
   "execution_count": 24,
   "metadata": {},
   "outputs": [],
   "source": [
    "assert(todos_imparesQ([1,3,5,7]) == True)\n",
    "assert(todos_imparesQ([1,2,3,4,5]) == False)"
   ]
  },
  {
   "cell_type": "code",
   "execution_count": null,
   "metadata": {},
   "outputs": [],
   "source": []
  }
 ],
 "metadata": {
  "kernelspec": {
   "display_name": "Python 3",
   "language": "python",
   "name": "python3"
  },
  "language_info": {
   "codemirror_mode": {
    "name": "ipython",
    "version": 3
   },
   "file_extension": ".py",
   "mimetype": "text/x-python",
   "name": "python",
   "nbconvert_exporter": "python",
   "pygments_lexer": "ipython3",
   "version": "3.6.4"
  }
 },
 "nbformat": 4,
 "nbformat_minor": 2
}
