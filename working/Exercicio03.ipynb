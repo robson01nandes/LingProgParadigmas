{
 "cells": [
  {
   "cell_type": "markdown",
   "metadata": {},
   "source": [
    "1. Faça um Programa que peça dois números e imprima o maior deles.\n"
   ]
  },
  {
   "cell_type": "code",
   "execution_count": 5,
   "metadata": {},
   "outputs": [
    {
     "name": "stdout",
     "output_type": "stream",
     "text": [
      "Informe um numero: 88\n",
      "Informe outro numero: 3154\n",
      "3154 é maior que 88\n"
     ]
    }
   ],
   "source": [
    "num1 = int(input('Informe um numero: '))\n",
    "num2 = int(input('Informe outro numero: '))\n",
    "\n",
    "if (num1 > num2):\n",
    "    print (num1, 'é maior que', num2)\n",
    "elif (num1 < num2):\n",
    "    print (num2, 'é maior que', num1)\n",
    "else:\n",
    "    print ('Os numeros são iguais')"
   ]
  },
  {
   "cell_type": "markdown",
   "metadata": {},
   "source": [
    "2. Faça um Programa que verifique se uma letra digitada é vogal ou consoante."
   ]
  },
  {
   "cell_type": "code",
   "execution_count": 7,
   "metadata": {},
   "outputs": [
    {
     "name": "stdout",
     "output_type": "stream",
     "text": [
      "Informe uma letra: a\n",
      "VOGAL\n"
     ]
    }
   ],
   "source": [
    "letra = input('Informe uma letra: ')\n",
    "\n",
    "if ('AEIOU'.find(letra.upper()) >= 0):\n",
    "    print ('VOGAL')\n",
    "else:\n",
    "    print ('CONSOANTE')"
   ]
  },
  {
   "cell_type": "markdown",
   "metadata": {},
   "source": [
    "3. Faça um programa para a leitura de duas notas parciais de um aluno. O programa\n",
    "deve calcular a média alcançada por aluno e apresentar:\n",
    "- A mensagem \"Aprovado\", se a média alcançada for maior ou igual a sete;\n",
    "- A mensagem \"Reprovado\", se a média for menor do que sete;\n",
    "- A mensagem \"Aprovado com Distinção\", se a média for igual a dez."
   ]
  },
  {
   "cell_type": "code",
   "execution_count": 9,
   "metadata": {},
   "outputs": [
    {
     "name": "stdout",
     "output_type": "stream",
     "text": [
      "Informe a primeira nota: 6\n",
      "Informe a segunda nota: 6.9\n",
      "A media do aluno é: 6.45\n",
      "Reprovado\n"
     ]
    }
   ],
   "source": [
    "nota1 = float(input('Informe a primeira nota: '))\n",
    "nota2 = float(input('Informe a segunda nota: '))\n",
    "\n",
    "media = (nota1 + nota2) / 2.0\n",
    "\n",
    "print ('A media do aluno é:', media)\n",
    "if (media == 10):\n",
    "    print ('Aprovado com Distinção')\n",
    "elif (media >= 7):\n",
    "    print ('Aprovado')\n",
    "else:\n",
    "    print ('Reprovado')"
   ]
  },
  {
   "cell_type": "markdown",
   "metadata": {},
   "source": [
    "4. Faça um Programa que leia três números e mostre-os em ordem decrescente."
   ]
  },
  {
   "cell_type": "code",
   "execution_count": 14,
   "metadata": {},
   "outputs": [
    {
     "name": "stdout",
     "output_type": "stream",
     "text": [
      "Informe um numero: 905\n",
      "Informe o segundo numero: 0\n",
      "Informe o último numero: 10\n",
      "905\n",
      "10\n",
      "0\n"
     ]
    }
   ],
   "source": [
    "num1 = int(input('Informe um numero: '))\n",
    "num2 = int(input('Informe o segundo numero: '))\n",
    "num3 = int(input('Informe o último numero: '))\n",
    "\n",
    "if (num1 >= num2) and (num1 >= num3):\n",
    "    print (num1)\n",
    "    if (num2 >= num3):\n",
    "        print (num2)\n",
    "        print (num3)\n",
    "    else:\n",
    "        print (num3)\n",
    "        print (num2)\n",
    "elif (num2 >= num3):\n",
    "    print (num2)\n",
    "    if (num1 >= num3):\n",
    "        print (num1)\n",
    "        print (num3)\n",
    "    else:\n",
    "        print (num3)\n",
    "        print (num1)\n",
    "else:\n",
    "    print (num3)\n",
    "    if (num1 >= num2):\n",
    "        print (num1)\n",
    "        print (num2)\n",
    "    else:\n",
    "        print (num2)\n",
    "        print (num1)"
   ]
  },
  {
   "cell_type": "markdown",
   "metadata": {},
   "source": [
    "5. As Organizações Tabajara resolveram dar um aumento de salário aos seus\n",
    "colaboradores e lhe contrataram para desenvolver o programa que calculará os\n",
    "reajustes.\n",
    "Faça um programa que recebe o salário de um colaborador e o reajuste segundo o\n",
    "seguinte critério, baseado no salário atual:\n",
    "- salários até RS 280,00 (incluindo) : aumento de 20/100\n",
    "- salários entre RS 280,00 e RS 700,00 : aumento de 15/100\n",
    "- salários entre RS 700,00 e RS 1500,00 : aumento de 10/100\n",
    "- salários de RS 1500,00 em diante : aumento de 5/100 Após o aumento ser realizado,\n",
    "informe na tela:\n",
    "- o salário antes do reajuste;\n",
    "- o percentual de aumento aplicado;\n",
    "- o valor do aumento;\n",
    "- o novo salário, após o aumento."
   ]
  },
  {
   "cell_type": "code",
   "execution_count": 15,
   "metadata": {},
   "outputs": [
    {
     "name": "stdout",
     "output_type": "stream",
     "text": [
      "Informe o valor do salario do colaborador: 1000\n",
      "Salario antes do reajuste: 1000.0\n",
      "Percentual de aumento: 10 %\n",
      "Valor do aumento: 100.0\n",
      "Novo Salario: 1100.0\n"
     ]
    }
   ],
   "source": [
    "salario = float(input('Informe o valor do salario do colaborador: '))\n",
    "\n",
    "if (salario <= 280):\n",
    "    percentual = 20\n",
    "elif (salario <= 700):\n",
    "    percentual = 15\n",
    "elif (salario <= 1500):\n",
    "    percentual = 10\n",
    "else:\n",
    "    percentual = 5\n",
    "\n",
    "aumento = salario * (percentual / 100.0)\n",
    "novoSalario = salario + aumento\n",
    "\n",
    "print ('Salario antes do reajuste:', salario)\n",
    "print ('Percentual de aumento:', percentual, '%')\n",
    "print ('Valor do aumento:', aumento)\n",
    "print ('Novo Salario:', novoSalario)"
   ]
  },
  {
   "cell_type": "markdown",
   "metadata": {},
   "source": [
    "6. Faça um Programa que leia um número e exiba o dia correspondente da semana.\n",
    "(1-Domingo, 2- Segunda, etc.), se digitar outro valor deve aparecer valor inválido."
   ]
  },
  {
   "cell_type": "code",
   "execution_count": 17,
   "metadata": {},
   "outputs": [
    {
     "name": "stdout",
     "output_type": "stream",
     "text": [
      "Informe um numero de 1 a 7 para saber o dia da semana: 10\n",
      "Valor invalido\n"
     ]
    }
   ],
   "source": [
    "numero_dia = int(input('Informe um numero de 1 a 7 para saber o dia da semana: '))\n",
    "\n",
    "if (numero_dia == 1):\n",
    "    print ('Domingo')\n",
    "elif (numero_dia == 2):\n",
    "    print ('Segunda')\n",
    "elif (numero_dia == 3):\n",
    "    print ('Terca')\n",
    "elif (numero_dia == 4):\n",
    "    print ('Quarta')\n",
    "elif (numero_dia == 5):\n",
    "    print ('Quinta')\n",
    "elif (numero_dia == 6):\n",
    "    print ('Sexta')\n",
    "elif (numero_dia == 7):\n",
    "    print ('Sabado')\n",
    "else:\n",
    "    print ('Valor invalido')"
   ]
  },
  {
   "cell_type": "markdown",
   "metadata": {},
   "source": [
    "7. Faça um programa que lê as duas notas parciais obtidas por um aluno numa\n",
    "disciplina ao longo de um semestre, e calcule a sua média. A atribuição de conceitos\n",
    "obedece à tabela abaixo:\n",
    " Média de Aproveitamento Conceito\n",
    " Entre 9.0 e 10.0 A\n",
    " Entre 7.5 e 9.0 B\n",
    " Entre 6.0 e 7.5 C\n",
    " Entre 4.0 e 6.0 D\n",
    " Entre 4.0 e zero E\n",
    "O algoritmo deve mostrar na tela as notas, a média, o conceito correspondente e a\n",
    "mensagem “APROVADO” se o conceito for A, B ou C ou “REPROVADO” se o conceito\n",
    "for D ou E."
   ]
  },
  {
   "cell_type": "code",
   "execution_count": 21,
   "metadata": {},
   "outputs": [
    {
     "name": "stdout",
     "output_type": "stream",
     "text": [
      "Informe o valor da primeira nota: 6.9\n",
      "Informe o valor da segunda nota: 7\n",
      "Nota 1:  6.9  Nota 2:  7.0\n",
      "Média:  6.95\n",
      "Conceito: C\n",
      "APROVADO\n"
     ]
    }
   ],
   "source": [
    "nota1 = float(input('Informe o valor da primeira nota: '))\n",
    "nota2 = float(input('Informe o valor da segunda nota: '))\n",
    "\n",
    "print('Nota 1: ',nota1, ' Nota 2: ', nota2)\n",
    "\n",
    "media = (nota1 + nota2) / 2\n",
    "\n",
    "print('Média: ', media)\n",
    "\n",
    "if (media < 4):\n",
    "    print ('Conceito: E')\n",
    "    aprovado = False\n",
    "elif (media < 6):\n",
    "    print ('Conceito: D')\n",
    "    aprovado = False\n",
    "elif (media < 7.5):\n",
    "    print ('Conceito: C')\n",
    "    aprovado = True\n",
    "elif (media < 9):\n",
    "    print ('Conceito: B')\n",
    "    aprovado = True\n",
    "else:\n",
    "    print ('Conceito: A')\n",
    "    aprovado = True\n",
    "\n",
    "if (aprovado):\n",
    "    print ('APROVADO')\n",
    "else:\n",
    "    print ('REPROVADO')"
   ]
  },
  {
   "cell_type": "markdown",
   "metadata": {},
   "source": [
    "8. Faça um Programa que peça os 3 lados de um triângulo. O programa deverá\n",
    "informar se os valores podem ser um triângulo. Indique, caso os lados formem um\n",
    "triângulo, se o mesmo é: equilátero, isósceles ou escaleno.\n",
    "Dicas:\n",
    "- Três lados formam um triângulo quando a soma de quaisquer dois lados for maior\n",
    "que o terceiro;\n",
    "- Triângulo Equilátero: três lados iguais;\n",
    "- Triângulo Isósceles: quaisquer dois lados iguais;\n",
    "- Triângulo Escaleno: três lados diferentes;"
   ]
  },
  {
   "cell_type": "code",
   "execution_count": 23,
   "metadata": {},
   "outputs": [
    {
     "name": "stdout",
     "output_type": "stream",
     "text": [
      "Lado 1: 1\n",
      "Lado 2: 2\n",
      "Lado 3: 3\n",
      "É Triangulo\n",
      "Triangulo Escaleno\n"
     ]
    }
   ],
   "source": [
    "lado1 = float(input('Lado 1: '))\n",
    "lado2 = float(input('Lado 2: '))\n",
    "lado3 = float(input('Lado 3: '))\n",
    "\n",
    "if (lado1 > (lado2 + lado3)) or (lado2 > (lado1 + lado3))\\\n",
    "        or (lado3 > (lado1 + lado2)):\n",
    "    ehTriangulo = False\n",
    "else:\n",
    "    ehTriangulo = True\n",
    "\n",
    "if (ehTriangulo):\n",
    "    print ('É Triangulo')\n",
    "    \n",
    "    if (lado1 == lado2) and (lado2 == lado3):\n",
    "        print ('Triangulo Equilatero')\n",
    "    elif (lado1 == lado2) or (lado1 == lado2) or (lado2 == lado3):\n",
    "        print ('Triangulo Isosceles')\n",
    "    else:\n",
    "        print ('Triangulo Escaleno')\n",
    "else:\n",
    "    print ('Não é um Triangulo')"
   ]
  },
  {
   "cell_type": "markdown",
   "metadata": {},
   "source": [
    "9. Faça um programa que calcule as raízes de uma equação do segundo grau, na\n",
    "forma ax2 + bx + c. O programa deverá pedir os valores de a, b e c e fazer as\n",
    "consistências, informando ao usuário nas seguintes situações:\n",
    "- Se o usuário informar o valor de A igual a zero, a equação não é do segundo grau e\n",
    "o programa não deve fazer pedir os demais valores, sendo encerrado;\n",
    "- Se o delta calculado for negativo, a equação não possui raizes reais. Informe ao\n",
    "usuário e encerre o programa;\n",
    "- Se o delta calculado for igual a zero a equação possui apenas uma raiz real;\n",
    "informe-a ao usuário;\n",
    "- Se o delta for positivo, a equação possui duas raiz reais; informe-as ao usuário;"
   ]
  },
  {
   "cell_type": "code",
   "execution_count": 31,
   "metadata": {},
   "outputs": [
    {
     "name": "stdout",
     "output_type": "stream",
     "text": [
      "Informe o valor de a : 1\n",
      "Informe o valor de b : -3\n",
      "Informe o valor de c : -10\n",
      "A equacao possui duas raizes\n",
      "Raiz 1: 5.0\n",
      "Raiz 2: -2.0\n"
     ]
    }
   ],
   "source": [
    "import math\n",
    "\n",
    "valorA = float(input('Informe o valor de a : '))\n",
    "if (valorA == 0):\n",
    "    pass\n",
    "else:\n",
    "    valorB = float(input('Informe o valor de b : '))\n",
    "    valorC = float(input('Informe o valor de c : '))\n",
    "\n",
    "    delta = math.pow(valorB, 2) - (4 * valorA * valorC)\n",
    "\n",
    "    if (delta < 0):\n",
    "        print ('A equacao nao possui valores reais.')\n",
    "    elif (delta == 0):\n",
    "        print ('A equacao possui apenas uma raiz')\n",
    "        raiz = -(valorB) / (2 * valorA)\n",
    "        print ('Raiz:', raiz)\n",
    "    else:\n",
    "        print ('A equacao possui duas raizes')\n",
    "        raiz1 = (-(valorB) + math.sqrt(delta)) / (2 * valorA)\n",
    "        raiz2 = (-(valorB) - math.sqrt(delta)) / (2 * valorA)\n",
    "        print ('Raiz 1:', raiz1)\n",
    "        print ('Raiz 2:', raiz2)"
   ]
  },
  {
   "cell_type": "markdown",
   "metadata": {},
   "source": [
    "10. Faça um Programa para um caixa eletrônico. O programa deverá perguntar ao\n",
    "usuário a valor do saque e depois informar quantas notas de cada valor serão\n",
    "fornecidas. As notas disponíveis serão as de 1, 5, 10, 50 e 100 reais. O valor mínimo é\n",
    "de 10 reais e o máximo de 600 reais. O programa não deve se preocupar com a\n",
    "quantidade de notas existentes na máquina.\n",
    "- Exemplo 1: Para sacar a quantia de 256 reais, o programa fornece duas notas de\n",
    "100, uma nota de 50, uma nota de 5 e uma nota de 1;\n",
    "- Exemplo 2: Para sacar a quantia de 399 reais, o programa fornece três notas de\n",
    "100, uma nota de 50, quatro notas de 10, uma nota de 5 e quatro notas de 1."
   ]
  },
  {
   "cell_type": "code",
   "execution_count": 36,
   "metadata": {},
   "outputs": [
    {
     "name": "stdout",
     "output_type": "stream",
     "text": [
      "Valor de saque: 251\n",
      "Notas de 100: 2\n",
      "Notas de  50: 1\n",
      "Notas de  10: 0\n",
      "Notas de   5: 0\n",
      "Notas de   1: 1\n"
     ]
    }
   ],
   "source": [
    "valor = int(input('Valor de saque: '))\n",
    "\n",
    "if (valor < 10) or (valor > 600):\n",
    "    print ('Valor invalido para saque')\n",
    "else:\n",
    "    notas100 = int(valor / 100)\n",
    "    notas50 = int((valor - (notas100 * 100)) / 50)\n",
    "    notas10 = int((valor - (notas100 * 100) - (notas50 * 50)) / 10)\n",
    "    notas5 = int((valor - (notas100 * 100) - (notas50 * 50) - (notas10 * 10)) / 5)\n",
    "    notas1 = int(valor - (notas100 * 100) - (notas50 * 50) - (notas10 * 10) - (notas5 * 5))\n",
    "\n",
    "    print ('Notas de 100: {}'.format(notas100))\n",
    "    print ('Notas de  50: {}'.format(notas50))\n",
    "    print ('Notas de  10: {}'.format(notas10))\n",
    "    print ('Notas de   5: {}'.format(notas5))\n",
    "    print ('Notas de   1: {}'.format(notas1))"
   ]
  },
  {
   "cell_type": "markdown",
   "metadata": {},
   "source": [
    "11. Faça um programa que faça 5 perguntas para uma pessoa sobre um crime. As\n",
    "perguntas são:\n",
    "\"Telefonou para a vítima?\"\n",
    "\"Esteve no local do crime?\"\n",
    "\"Mora perto da vítima?\"\n",
    "\"Devia para a vítima?\"\n",
    "\"Já trabalhou com a vítima?\"\n",
    "O programa deve no final emitir uma classificação sobre a participação da pessoa no\n",
    "crime. Se a pessoa responder positivamente a 2 questões ela deve ser classificada\n",
    "como \"Suspeita\", entre 3 e 4 como \"Cúmplice\" e 5 como \"Assassino\". Caso contrário,\n",
    "ele será classificado como \"Inocente\"."
   ]
  },
  {
   "cell_type": "code",
   "execution_count": 40,
   "metadata": {},
   "outputs": [
    {
     "name": "stdout",
     "output_type": "stream",
     "text": [
      "Voce telefonou para a vitima? sim\n",
      "Voce esteve no local do crime? sim\n",
      "Voce mora perto da vitima? s\n",
      "Voce devia para a vitima? s\n",
      "Voce trabalhou para a vitima? s\n",
      "Assassino\n"
     ]
    }
   ],
   "source": [
    "telefonou = input('Voce telefonou para a vitima? ').upper()[0]\n",
    "localCrime = input('Voce esteve no local do crime? ').upper()[0]\n",
    "moraPerto = input('Voce mora perto da vitima? ').upper()[0]\n",
    "devia = input('Voce devia para a vitima? ').upper()[0]\n",
    "trabalhou = input('Voce trabalhou para a vitima? ').upper()[0]\n",
    "\n",
    "classificacao = 0\n",
    "\n",
    "if (telefonou == 'S'):\n",
    "    classificacao += 1\n",
    "\n",
    "if (localCrime == 'S'):\n",
    "    classificacao += 1\n",
    "\n",
    "if (moraPerto == 'S'):\n",
    "    classificacao += 1\n",
    "\n",
    "if (devia == 'S'):\n",
    "    classificacao += 1\n",
    "\n",
    "if (trabalhou == 'S'):\n",
    "    classificacao += 1\n",
    "\n",
    "if (classificacao < 2):\n",
    "    print ('Inocente')\n",
    "elif (classificacao == 2):\n",
    "    print ('Suspeito')\n",
    "elif (classificacao <= 4):\n",
    "    print ('Cumplice')\n",
    "else:\n",
    "    print ('Assassino')"
   ]
  },
  {
   "cell_type": "markdown",
   "metadata": {},
   "source": [
    "12. Uma fruteira está vendendo frutas com a seguinte tabela de preços:\n",
    " Até 5 Kg Acima de 5 Kg\n",
    "Morango R$ 2,50 por Kg R$ 2,20 por Kg\n",
    "Maçã R$ 1,80 por Kg R$ 1,50 por Kg\n",
    "Se o cliente comprar mais de 8 Kg em frutas ou o valor total da compra ultrapassar\n",
    "R$ 25,00, receberá ainda um desconto de 10% sobre este total. Escreva um\n",
    "algoritmo para ler a quantidade (em Kg) de morangos e a quantidade (em Kg) de\n",
    "maças adquiridas e escreva o valor a ser pago pelo cliente."
   ]
  },
  {
   "cell_type": "code",
   "execution_count": 41,
   "metadata": {},
   "outputs": [
    {
     "name": "stdout",
     "output_type": "stream",
     "text": [
      "Informe a quantidade (em Kg) de morangos comprados: 2\n",
      "Informe a quantidade (em Kg) de macas comprados: 5\n",
      "Valor a pagar:  14.0\n"
     ]
    }
   ],
   "source": [
    "totalMorangos = float(input('Informe a quantidade (em Kg) de morangos comprados: '))\n",
    "totalMacas = float(input('Informe a quantidade (em Kg) de macas comprados: '))\n",
    "\n",
    "if (totalMorangos <= 5):\n",
    "    valorMorangos = totalMorangos * 2.5\n",
    "else:\n",
    "    valorMorangos = totalMorangos * 2.2\n",
    "\n",
    "if (totalMacas <= 5):\n",
    "    valorMacas = totalMacas * 1.8\n",
    "else:\n",
    "    valorMacas = totalMacas * 1.5\n",
    "\n",
    "valorBruto = valorMorangos + valorMacas\n",
    "\n",
    "if ((totalMorangos + totalMacas) >= 8) or (valorBruto >= 25):\n",
    "    valorBruto = valorBruto * 0.9\n",
    "\n",
    "print ('Valor a pagar: ', valorBruto)"
   ]
  },
  {
   "cell_type": "markdown",
   "metadata": {},
   "source": [
    "Loops\n",
    "\n",
    "\n",
    "13. Faça um programa que peça uma nota, entre zero e dez. Mostre uma mensagem\n",
    "caso o valor seja inválido e continue pedindo até que o usuário informe um valor\n",
    "válido."
   ]
  },
  {
   "cell_type": "code",
   "execution_count": 44,
   "metadata": {},
   "outputs": [
    {
     "name": "stdout",
     "output_type": "stream",
     "text": [
      "Informe uma nota: -1\n",
      "Nota Invalida\n",
      "Informe uma nota: -2\n",
      "Nota Invalida\n",
      "Informe uma nota: 0\n"
     ]
    }
   ],
   "source": [
    "nota = -1\n",
    "while (nota < 0) or (nota > 10):\n",
    "    nota = int(input('Informe uma nota: '))\n",
    "    if (nota < 0) or (nota > 10):\n",
    "        print ('Nota Invalida')"
   ]
  },
  {
   "cell_type": "markdown",
   "metadata": {},
   "source": [
    "13. Faça um programa que leia e valide as seguintes informações:\n",
    "Nome: maior que 3 caracteres;\n",
    "Idade: entre 0 e 150;\n",
    "Salário: maior que zero;\n",
    "Sexo: 'f' ou 'm';\n",
    "Estado Civil: 's', 'c', 'v', 'd';"
   ]
  },
  {
   "cell_type": "code",
   "execution_count": 48,
   "metadata": {},
   "outputs": [
    {
     "name": "stdout",
     "output_type": "stream",
     "text": [
      "Informe um nome: \n",
      "O nome deve ter mais de tres letras!\n",
      "Informe um nome: igor\n",
      "Informe a idade: 0\n",
      "Informe o salario: 0\n",
      "O salario deve ser maior que zero\n",
      "Informe o salario: 1\n",
      "Informe o sexo: l\n",
      "O sexo deve ser infomado como M (masculino) ou F (feminino)\n",
      "Informe o sexo: m\n",
      "Informe o estado civil: s\n"
     ]
    }
   ],
   "source": [
    "nome = ''\n",
    "while (len(nome) <= 3):\n",
    "    nome = input('Informe um nome: ')\n",
    "    if (len(nome) <= 3):\n",
    "        print ('O nome deve ter mais de tres letras!')\n",
    "\n",
    "# Validacao da idade\n",
    "idade = -1\n",
    "while (idade < 0) or (idade > 150):\n",
    "    idade = int(input('Informe a idade: '))\n",
    "    if (idade < 0) or (idade > 150):\n",
    "        print ('Idade deve estar entre 0 e 150')\n",
    "\n",
    "# Validacao do salario\n",
    "salario = 0\n",
    "while (salario <= 0):\n",
    "    salario = int(input('Informe o salario: '))\n",
    "    if (salario <= 0):\n",
    "        print ('O salario deve ser maior que zero')\n",
    "\n",
    "# Valida o sexo\n",
    "sexo = ''\n",
    "while (sexo != 'F') and (sexo != 'M'):\n",
    "    sexo = input('Informe o sexo: ').upper()\n",
    "    if (sexo != 'F') and (sexo != 'M'):\n",
    "        print ('O sexo deve ser infomado como M (masculino) ou F (feminino)')\n",
    "\n",
    "# Valida o estado civil\n",
    "estado_civil = 'A'\n",
    "while ('SCVD'.find(estado_civil) < 0):\n",
    "    estado_civil = input('Informe o estado civil: ').upper()\n",
    "    if ('SCVD'.find(estado_civil) < 0):\n",
    "        print ('Estado civil deve ser informado como S (solteiro), C (casado), V (viuvo) ou D (divorciado)')"
   ]
  },
  {
   "cell_type": "markdown",
   "metadata": {},
   "source": [
    "14. Faça um programa que leia 5 números e informe o maior número."
   ]
  },
  {
   "cell_type": "code",
   "execution_count": 49,
   "metadata": {},
   "outputs": [
    {
     "name": "stdout",
     "output_type": "stream",
     "text": [
      "Informe um numero: 0\n",
      "Informe um numero: 1\n",
      "Informe um numero: 5\n",
      "Informe um numero: 2\n",
      "Informe um numero: 6\n",
      "O maior numero que voce digitou e 6\n"
     ]
    }
   ],
   "source": [
    "for i in range(0, 5):\n",
    "    numero = int(input('Informe um numero: '))\n",
    "    if ('maior' in vars()):\n",
    "        if (numero > maior):\n",
    "            maior = numero\n",
    "    else:\n",
    "        maior = numero\n",
    "\n",
    "print ('O maior numero que voce digitou e', maior)"
   ]
  },
  {
   "cell_type": "markdown",
   "metadata": {},
   "source": [
    "15. Faça um programa que leia 5 números e informe a soma e a média dos números."
   ]
  },
  {
   "cell_type": "code",
   "execution_count": 50,
   "metadata": {},
   "outputs": [
    {
     "name": "stdout",
     "output_type": "stream",
     "text": [
      "Informe um numero: 1\n",
      "Informe um numero: 1\n",
      "Informe um numero: 1\n",
      "Informe um numero: 1\n",
      "Informe um numero: 1\n",
      "A soma dos numeros digitados eh 5\n",
      "A media dos numeros digitados eh 1.0\n"
     ]
    }
   ],
   "source": [
    "soma = 0\n",
    "for i in range(0, 5):\n",
    "    numero = int(input('Informe um numero: '))\n",
    "    soma += numero\n",
    "\n",
    "print ('A soma dos numeros digitados e', soma)\n",
    "print ('A media dos numeros digitados e', (soma / 5.0))"
   ]
  },
  {
   "cell_type": "markdown",
   "metadata": {},
   "source": [
    "16. Faça um programa que imprima na tela apenas os números ímpares entre 1 e 50."
   ]
  },
  {
   "cell_type": "code",
   "execution_count": 53,
   "metadata": {
    "collapsed": true
   },
   "outputs": [
    {
     "name": "stdout",
     "output_type": "stream",
     "text": [
      "1\n",
      "3\n",
      "5\n",
      "7\n",
      "9\n",
      "11\n",
      "13\n",
      "15\n",
      "17\n",
      "19\n",
      "21\n",
      "23\n",
      "25\n",
      "27\n",
      "29\n",
      "31\n",
      "33\n",
      "35\n",
      "37\n",
      "39\n",
      "41\n",
      "43\n",
      "45\n",
      "47\n",
      "49\n",
      "51\n",
      "53\n",
      "55\n",
      "57\n",
      "59\n",
      "61\n",
      "63\n",
      "65\n",
      "67\n",
      "69\n",
      "71\n",
      "73\n",
      "75\n",
      "77\n",
      "79\n",
      "81\n",
      "83\n",
      "85\n",
      "87\n",
      "89\n",
      "91\n",
      "93\n",
      "95\n",
      "97\n",
      "99\n",
      "101\n",
      "103\n",
      "105\n",
      "107\n",
      "109\n",
      "111\n",
      "113\n",
      "115\n",
      "117\n",
      "119\n",
      "121\n",
      "123\n",
      "125\n",
      "127\n",
      "129\n",
      "131\n",
      "133\n",
      "135\n",
      "137\n",
      "139\n",
      "141\n",
      "143\n",
      "145\n",
      "147\n",
      "149\n"
     ]
    }
   ],
   "source": [
    "for i in range(0, 150):\n",
    "    if (i % 2 != 0):\n",
    "        print (i)"
   ]
  },
  {
   "cell_type": "markdown",
   "metadata": {},
   "source": [
    "17. Desenvolva um gerador de tabuada, capaz de gerar a tabuada de qualquer\n",
    "número inteiro entre 1 a 10. O usuário deve informar de qual numero ele deseja ver\n",
    "a tabuada. A saída deve ser conforme o exemplo abaixo:\n",
    "Tabuada de 5:\n",
    "5 X 1 = 5\n",
    "5 X 2 = 10\n",
    "...\n",
    "5 X 10 = 50"
   ]
  },
  {
   "cell_type": "code",
   "execution_count": 55,
   "metadata": {},
   "outputs": [
    {
     "name": "stdout",
     "output_type": "stream",
     "text": [
      "Informe o numero que voce quer ver a tabuada: 5\n",
      "Tabuada de 5 :\n",
      "5 X 1 = 5\n",
      "5 X 2 = 10\n",
      "5 X 3 = 15\n",
      "5 X 4 = 20\n",
      "5 X 5 = 25\n",
      "5 X 6 = 30\n",
      "5 X 7 = 35\n",
      "5 X 8 = 40\n",
      "5 X 9 = 45\n",
      "5 X 10 = 50\n"
     ]
    }
   ],
   "source": [
    "numero = int(input('Informe o numero que voce quer ver a tabuada: '))\n",
    "\n",
    "print ('Tabuada de', numero, ':')\n",
    "for i in range(1, 11):\n",
    "    print (numero, 'X', i, '=', (numero * i))"
   ]
  },
  {
   "cell_type": "markdown",
   "metadata": {},
   "source": [
    "18. A série de Fibonacci é formada pela seqüência 1,1,2,3,5,8,13,21,34,55,... Faça um\n",
    "programa capaz de gerar a série até o n−ésimo termo."
   ]
  },
  {
   "cell_type": "code",
   "execution_count": 59,
   "metadata": {},
   "outputs": [
    {
     "name": "stdout",
     "output_type": "stream",
     "text": [
      "Voce quer a serie de Fibonacci ate qual termo: 3\n",
      "0\n",
      "1\n",
      "1\n"
     ]
    }
   ],
   "source": [
    "termo = int(input('Voce quer a serie de Fibonacci ate qual termo: '))\n",
    "\n",
    "primeiro = 0\n",
    "print (primeiro)\n",
    "segundo = 1\n",
    "for i in range(1, termo):\n",
    "    print (segundo)\n",
    "    terceiro = primeiro + segundo\n",
    "    primeiro = segundo\n",
    "    segundo = terceiro"
   ]
  },
  {
   "cell_type": "markdown",
   "metadata": {},
   "source": [
    "19. Faça um programa que calcule o fatorial de um número inteiro fornecido pelo\n",
    "usuário. Ex.: 5!=5.4.3.2.1=120"
   ]
  },
  {
   "cell_type": "code",
   "execution_count": 61,
   "metadata": {},
   "outputs": [
    {
     "name": "stdout",
     "output_type": "stream",
     "text": [
      "Voce quer o fatorial de qual termo: 5\n",
      "120\n"
     ]
    }
   ],
   "source": [
    "termo = int(input('Voce quer o fatorial de qual termo: '))\n",
    "\n",
    "fatorial = 1\n",
    "for i in range(1, termo + 1):\n",
    "    fatorial *= i\n",
    "\n",
    "print (fatorial)"
   ]
  },
  {
   "cell_type": "markdown",
   "metadata": {},
   "source": [
    "20. O Sr. Manoel Joaquim possui uma grande loja de artigos de R$ 1,99, com cerca\n",
    "de 10 caixas. Para agilizar o cálculo de quanto cada cliente deve pagar ele\n",
    "desenvolveu um tabela que contém o número de itens que o cliente comprou e ao\n",
    "lado o valor da conta. Desta forma a atendente do caixa precisa apenas contar\n",
    "quantos itens o cliente está levando e olhar na tabela de preços. Você foi contratado\n",
    "para desenvolver o programa que monta esta tabela de preços, que conterá os\n",
    "preços de 1 até 50 produtos, conforme o exemplo abaixo:\n",
    "Lojas Quase Dois - Tabela de preços\n",
    "1 - R$ 1.99\n",
    "2 - R$ 3.98\n",
    "...\n",
    "50 - R$ 99.50"
   ]
  },
  {
   "cell_type": "code",
   "execution_count": 68,
   "metadata": {
    "collapsed": true
   },
   "outputs": [
    {
     "name": "stdout",
     "output_type": "stream",
     "text": [
      "Tabela de precos\n",
      " 1 - R$ 1.99\n",
      " 2 - R$ 3.98\n",
      " 3 - R$ 5.97\n",
      " 4 - R$ 7.96\n",
      " 5 - R$ 9.95\n",
      " 6 - R$ 11.94\n",
      " 7 - R$ 13.93\n",
      " 8 - R$ 15.92\n",
      " 9 - R$ 17.91\n",
      "10 - R$ 19.90\n",
      "11 - R$ 21.89\n",
      "12 - R$ 23.88\n",
      "13 - R$ 25.87\n",
      "14 - R$ 27.86\n",
      "15 - R$ 29.85\n",
      "16 - R$ 31.84\n",
      "17 - R$ 33.83\n",
      "18 - R$ 35.82\n",
      "19 - R$ 37.81\n",
      "20 - R$ 39.80\n",
      "21 - R$ 41.79\n",
      "22 - R$ 43.78\n",
      "23 - R$ 45.77\n",
      "24 - R$ 47.76\n",
      "25 - R$ 49.75\n",
      "26 - R$ 51.74\n",
      "27 - R$ 53.73\n",
      "28 - R$ 55.72\n",
      "29 - R$ 57.71\n",
      "30 - R$ 59.70\n",
      "31 - R$ 61.69\n",
      "32 - R$ 63.68\n",
      "33 - R$ 65.67\n",
      "34 - R$ 67.66\n",
      "35 - R$ 69.65\n",
      "36 - R$ 71.64\n",
      "37 - R$ 73.63\n",
      "38 - R$ 75.62\n",
      "39 - R$ 77.61\n",
      "40 - R$ 79.60\n",
      "41 - R$ 81.59\n",
      "42 - R$ 83.58\n",
      "43 - R$ 85.57\n",
      "44 - R$ 87.56\n",
      "45 - R$ 89.55\n",
      "46 - R$ 91.54\n",
      "47 - R$ 93.53\n",
      "48 - R$ 95.52\n",
      "49 - R$ 97.51\n",
      "50 - R$ 99.50\n"
     ]
    }
   ],
   "source": [
    "print ('Tabela de precos')\n",
    "for i in range(1, 51):\n",
    "    print ('%2d - R$ %.2f' % (i, i * 1.99))"
   ]
  },
  {
   "cell_type": "markdown",
   "metadata": {},
   "source": [
    "21. O Sr. Manoel Joaquim acaba de adquirir uma panificadora e pretende implantar\n",
    "a metodologia da tabelinha, que já é um sucesso na sua loja de 1,99. Você foi\n",
    "contratado para desenvolver o programa que monta a tabela de preços de pães, de\n",
    "1 até 50 pães, a partir do preço do pão informado pelo usuário, conforme o exemplo\n",
    "abaixo:\n",
    "Preço do pão: R$ 0.18\n",
    "Panificadora Pão de Ontem - Tabela de preços\n",
    "1 - R$ 0.18\n",
    "2 - R$ 0.36\n",
    "...\n",
    "50 - R$ 9.00"
   ]
  },
  {
   "cell_type": "code",
   "execution_count": 71,
   "metadata": {
    "collapsed": true
   },
   "outputs": [
    {
     "name": "stdout",
     "output_type": "stream",
     "text": [
      "Preco do pao: 2\n",
      "Tabela de precos\n",
      " 1 - R$ 2.00\n",
      " 2 - R$ 4.00\n",
      " 3 - R$ 6.00\n",
      " 4 - R$ 8.00\n",
      " 5 - R$ 10.00\n",
      " 6 - R$ 12.00\n",
      " 7 - R$ 14.00\n",
      " 8 - R$ 16.00\n",
      " 9 - R$ 18.00\n",
      "10 - R$ 20.00\n",
      "11 - R$ 22.00\n",
      "12 - R$ 24.00\n",
      "13 - R$ 26.00\n",
      "14 - R$ 28.00\n",
      "15 - R$ 30.00\n",
      "16 - R$ 32.00\n",
      "17 - R$ 34.00\n",
      "18 - R$ 36.00\n",
      "19 - R$ 38.00\n",
      "20 - R$ 40.00\n",
      "21 - R$ 42.00\n",
      "22 - R$ 44.00\n",
      "23 - R$ 46.00\n",
      "24 - R$ 48.00\n",
      "25 - R$ 50.00\n",
      "26 - R$ 52.00\n",
      "27 - R$ 54.00\n",
      "28 - R$ 56.00\n",
      "29 - R$ 58.00\n",
      "30 - R$ 60.00\n",
      "31 - R$ 62.00\n",
      "32 - R$ 64.00\n",
      "33 - R$ 66.00\n",
      "34 - R$ 68.00\n",
      "35 - R$ 70.00\n",
      "36 - R$ 72.00\n",
      "37 - R$ 74.00\n",
      "38 - R$ 76.00\n",
      "39 - R$ 78.00\n",
      "40 - R$ 80.00\n",
      "41 - R$ 82.00\n",
      "42 - R$ 84.00\n",
      "43 - R$ 86.00\n",
      "44 - R$ 88.00\n",
      "45 - R$ 90.00\n",
      "46 - R$ 92.00\n",
      "47 - R$ 94.00\n",
      "48 - R$ 96.00\n",
      "49 - R$ 98.00\n",
      "50 - R$ 100.00\n"
     ]
    }
   ],
   "source": [
    "precoPao = float(input('Preco do pao: '))\n",
    "\n",
    "print ('Tabela de precos')\n",
    "for i in range(1, 51):\n",
    "    print ('%2d - R$ %.2f' % (i, i * precoPao))"
   ]
  },
  {
   "cell_type": "markdown",
   "metadata": {},
   "source": [
    "22. O Sr. Manoel Joaquim expandiu seus negócios para além dos negócios de 1,99 e\n",
    "agora possui uma loja de conveniências. Faça um programa que implemente uma\n",
    "caixa registradora rudimentar. O programa deverá receber um número\n",
    "desconhecido de valores referentes aos preços das mercadorias. Um valor zero deve\n",
    "ser informado pelo operador para indicar o final da compra. O programa deve então\n",
    "mostrar o total da compra e perguntar o valor em dinheiro que o cliente forneceu,\n",
    "para então calcular e mostrar o valor do troco. Após esta operação, o programa\n",
    "deverá voltar ao ponto inicial, para registrar a próxima compra. A saída deve ser\n",
    "conforme o exemplo abaixo:\n",
    "Lojas Tabajara\n",
    "Produto 1: R$ 2.20\n",
    "Produto 2: R$ 5.80\n",
    "Produto 3: R$ 0\n",
    "Total: R$ 9.00\n",
    "Dinheiro: R$ 20.00\n",
    "Troco: R$ 11.00\n",
    "..."
   ]
  },
  {
   "cell_type": "code",
   "execution_count": 72,
   "metadata": {},
   "outputs": [
    {
     "name": "stdout",
     "output_type": "stream",
     "text": [
      "Produto 1: R$ 10\n",
      "Produto 1: R$ 10\n",
      "Produto 1: R$ 10\n",
      "Produto 1: R$ 10\n",
      "Produto 1: R$ 10\n",
      "Produto 1: R$ 0\n",
      "Total: R$ 50.00\n",
      "Dinheiro: R$ 500\n",
      "Troco: R$ 450.00\n"
     ]
    }
   ],
   "source": [
    "soma = 0.0\n",
    "quantidade = 1\n",
    "precoMercadoria = 1\n",
    "while (precoMercadoria != 0):\n",
    "    precoMercadoria = float(input('Produto %d: R$ ' % (quantidade)))\n",
    "    soma += precoMercadoria\n",
    "\n",
    "print ('Total: R$ %.2f' % soma)\n",
    "pagamento = float(input('Dinheiro: R$ '))\n",
    "\n",
    "print ('Troco: R$ %.2f' % (pagamento - soma))"
   ]
  },
  {
   "cell_type": "markdown",
   "metadata": {},
   "source": [
    "23. Foi feita uma estatística em cinco cidades brasileiras para coletar dados sobre\n",
    "acidentes de trânsito. Foram obtidos os seguintes dados:\n",
    "- Código da cidade;\n",
    "- Número de veículos de passeio (em 1999);\n",
    "- Número de acidentes de trânsito com vítimas (em 1999). Deseja-se saber:\n",
    "- Qual o maior e menor índice de acidentes de transito e a que cidade pertence;\n",
    "- Qual a média de veículos nas cinco cidades juntas;\n",
    "- Qual a média de acidentes de trânsito nas cidades com menos de 2.000 veículos de\n",
    "passeio."
   ]
  },
  {
   "cell_type": "code",
   "execution_count": 74,
   "metadata": {
    "collapsed": true
   },
   "outputs": [
    {
     "name": "stdout",
     "output_type": "stream",
     "text": [
      "Informe o codigo da cidade: 1\n",
      "Informe o numero de veiculos de passeio: 500\n",
      "Informe a quantidade de acidentes em 1999: 55\n",
      "Informe o codigo da cidade: 1\n",
      "Informe o numero de veiculos de passeio: 500\n",
      "Informe a quantidade de acidentes em 1999: 55\n",
      "Informe o codigo da cidade: 1\n",
      "Informe o numero de veiculos de passeio: 2\n",
      "Informe a quantidade de acidentes em 1999: 5\n",
      "Informe o codigo da cidade: 4\n",
      "Informe o numero de veiculos de passeio: 4\n",
      "Informe a quantidade de acidentes em 1999: 4\n",
      "Informe o codigo da cidade: 4\n",
      "Informe o numero de veiculos de passeio: 4\n",
      "Informe a quantidade de acidentes em 1999: 4\n",
      "O cidade com maior indice de acidentes eh 1 com 2.50\n",
      "O cidade com menor indice de acidentes eh 1 com 0.11\n",
      "A media de veiculos nas cidades eh 202.00\n",
      "A media de acidentes de transito nas cidades com menos de 2k veiculos eh 24.60\n"
     ]
    }
   ],
   "source": [
    "somaVeiculos = 0\n",
    "somaAcidentes = 0\n",
    "somaAcidentesMenos2Mil = 0\n",
    "totalCidadesMenos2Mil = 0\n",
    "\n",
    "for i in range(0, 5):\n",
    "    codigo = int(input('Informe o codigo da cidade: '))\n",
    "    veiculos = int(input('Informe o numero de veiculos de passeio: '))\n",
    "    acidentes = int(input('Informe a quantidade de acidentes em 1999: '))\n",
    "\n",
    "    indiceAcidentes = acidentes / float(veiculos)\n",
    "    somaVeiculos += veiculos\n",
    "\n",
    "    if ('maisAcidentes' not in vars()) or (indiceAcidentes > maisAcidentes):\n",
    "        maisAcidentes = indiceAcidentes\n",
    "        codigoMaisAcidentes = codigo\n",
    "    if ('menosAcidentes' not in vars()) or (indiceAcidentes < menosAcidentes):\n",
    "        menosAcidentes = indiceAcidentes\n",
    "        codigoMenosAcidentes = codigo\n",
    "\n",
    "    if (veiculos < 2000):\n",
    "        somaAcidentesMenos2Mil += acidentes\n",
    "        totalCidadesMenos2Mil += 1\n",
    "\n",
    "print ('O cidade com maior indice de acidentes eh %i com %.2f' %(codigoMaisAcidentes, maisAcidentes))\n",
    "print ('O cidade com menor indice de acidentes eh %i com %.2f' %(codigoMenosAcidentes, menosAcidentes))\n",
    "print ('A media de veiculos nas cidades eh %.2f' % (somaVeiculos / 5.0))\n",
    "print ('A media de acidentes de transito nas cidades com menos de 2k veiculos eh %.2f' %(somaAcidentesMenos2Mil / float(totalCidadesMenos2Mil)))"
   ]
  },
  {
   "cell_type": "markdown",
   "metadata": {},
   "source": [
    "24. Faça um programa que receba o valor de uma dívida e mostre uma tabela com\n",
    "os seguintes dados: valor da dívida, valor dos juros, quantidade de parcelas e valor\n",
    "da parcela.\n",
    "Os juros e a quantidade de parcelas seguem a tabela abaixo:\n",
    "Quantidade de Parcelas % de Juros sobre o valor inicial da dívida\n",
    "1 0\n",
    "3 10\n",
    "6 15\n",
    "9 20\n",
    "12 25"
   ]
  },
  {
   "cell_type": "code",
   "execution_count": 75,
   "metadata": {},
   "outputs": [
    {
     "name": "stdout",
     "output_type": "stream",
     "text": [
      "Informe o valor da divida: 1\n",
      "R$ 1.00\tR$ 0.00\t1\tR$ 1.00\n",
      "R$ 1.10\tR$ 0.10\t3\tR$ 0.37\n",
      "R$ 1.15\tR$ 0.15\t6\tR$ 0.19\n",
      "R$ 1.20\tR$ 0.20\t9\tR$ 0.13\n",
      "R$ 1.25\tR$ 0.25\t12\tR$ 0.10\n"
     ]
    }
   ],
   "source": [
    "divida = float(input('Informe o valor da divida: '))\n",
    "\n",
    "juros = 0\n",
    "for i in [1, 3, 6, 9, 12]:\n",
    "    valorJuros = (divida * (juros / 100.0))\n",
    "    valorDivida = divida + valorJuros\n",
    "    valorParcela = valorDivida / float(i)\n",
    "    print ('R$ %.2f\\tR$ %.2f\\t%i\\tR$ %.2f' %(valorDivida, valorJuros, i, valorParcela))\n",
    "    if (i == 1):\n",
    "        juros = 10\n",
    "    else:\n",
    "        juros += 5"
   ]
  },
  {
   "cell_type": "markdown",
   "metadata": {},
   "source": [
    "25. Faça um programa que mostre os n termos da Série a seguir:\n",
    " S = 1/1 + 2/3 + 3/5 + 4/7 + 5/9 + ... + n/m.\n",
    "Imprima no final a soma da série."
   ]
  },
  {
   "cell_type": "code",
   "execution_count": 77,
   "metadata": {},
   "outputs": [
    {
     "name": "stdout",
     "output_type": "stream",
     "text": [
      "Informe a quantidade de termos que deseja: 10\n",
      "Resultado: 6.07\n"
     ]
    }
   ],
   "source": [
    "termos = int(input('Informe a quantidade de termos que deseja: '))\n",
    "\n",
    "s = 0.0\n",
    "denominador = 1\n",
    "for i in range(1, termos + 1):\n",
    "    s += i / denominador\n",
    "    denominador += 2\n",
    "\n",
    "print ('Resultado: %.2f' % s)"
   ]
  },
  {
   "cell_type": "code",
   "execution_count": null,
   "metadata": {},
   "outputs": [],
   "source": []
  }
 ],
 "metadata": {
  "kernelspec": {
   "display_name": "Python 3",
   "language": "python",
   "name": "python3"
  },
  "language_info": {
   "codemirror_mode": {
    "name": "ipython",
    "version": 3
   },
   "file_extension": ".py",
   "mimetype": "text/x-python",
   "name": "python",
   "nbconvert_exporter": "python",
   "pygments_lexer": "ipython3",
   "version": "3.6.4"
  }
 },
 "nbformat": 4,
 "nbformat_minor": 2
}
