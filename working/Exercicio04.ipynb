{
 "cells": [
  {
   "cell_type": "markdown",
   "metadata": {},
   "source": [
    "1 Menor de dois pares: Escreva uma função que retorne o menor de dois números\n",
    "dados se ambos os números forem pares, mas retorna o maior se um dos dois for\n",
    "ímpar."
   ]
  },
  {
   "cell_type": "code",
   "execution_count": 3,
   "metadata": {},
   "outputs": [
    {
     "name": "stdout",
     "output_type": "stream",
     "text": [
      "V 1: 1\n",
      "V 2: 5\n",
      "maior:  5.0\n"
     ]
    }
   ],
   "source": [
    "numero1 = float(input(\"V 1: \"));\n",
    "numero2 = float(input(\"V 2: \"));\n",
    "if numero1 % 2 == 0 and numero2 % 2 == 0:\n",
    "    if(numero1 > numero2):\n",
    "        print(\"menor: \", numero2)\n",
    "    else:\n",
    "        print(\"menor: \", numero1)\n",
    "else:\n",
    "        if(numero1 > numero2):\n",
    "            print(\"maior: \", numero1)\n",
    "        else:\n",
    "            print(\"maior: \", numero2)"
   ]
  },
  {
   "cell_type": "markdown",
   "metadata": {},
   "source": [
    "2 Mesma letra: Escreva uma função que receba uma string com duas palavras e\n",
    "retorne True se ambas palavras começarem com a mesma letra."
   ]
  },
  {
   "cell_type": "code",
   "execution_count": 7,
   "metadata": {},
   "outputs": [
    {
     "data": {
      "text/plain": [
       "True"
      ]
     },
     "execution_count": 7,
     "metadata": {},
     "output_type": "execute_result"
    }
   ],
   "source": [
    "def  mesma_letra (arg):\n",
    "    palavras = arg.split(' ')\n",
    "    if palavras[0][0:1] == palavras[1][0:1]:\n",
    "        return True\n",
    "    else:\n",
    "        return False\n",
    "    \n",
    "mesma_letra('azzz aa')"
   ]
  },
  {
   "cell_type": "markdown",
   "metadata": {},
   "source": [
    "3 Mestre Yoda: Dada uma sentença, a função deve retornar a sentença com as\n",
    "palavras na ordem reversa."
   ]
  },
  {
   "cell_type": "code",
   "execution_count": 12,
   "metadata": {},
   "outputs": [
    {
     "name": "stdout",
     "output_type": "stream",
     "text": [
      "u o i e a "
     ]
    }
   ],
   "source": [
    "s ='a e i o u' \n",
    "def mestre_yoda(arg):\n",
    "    for i in reversed(arg.split(' ')):\n",
    "        print(i, end = \" \")\n",
    "        \n",
    "mestre_yoda(s)"
   ]
  },
  {
   "cell_type": "markdown",
   "metadata": {},
   "source": [
    "4 Tem 33: Faça uma função que retorne True se, dada uma lista de inteiros, houver\n",
    "em alguma posição da lista um 3 do lado de outro 3. "
   ]
  },
  {
   "cell_type": "code",
   "execution_count": 16,
   "metadata": {},
   "outputs": [
    {
     "data": {
      "text/plain": [
       "False"
      ]
     },
     "execution_count": 16,
     "metadata": {},
     "output_type": "execute_result"
    }
   ],
   "source": [
    "def tem33(arg):\n",
    "    isTres = False\n",
    "    for i in arg:\n",
    "        if i == 3:\n",
    "            if isTres is True:\n",
    "                return True\n",
    "            else:\n",
    "                isTres = True\n",
    "        else:\n",
    "            isTres = False\n",
    "    else:\n",
    "        return False\n",
    "    \n",
    "tem_33([1,3,2])"
   ]
  },
  {
   "cell_type": "markdown",
   "metadata": {},
   "source": [
    "5 Blackjack: Faça uma função que receba 3 inteiros entre 1 e 11. Se a soma deles for\n",
    "menor que 21, retorne o valor da soma. Se for mair do que 21 e houver um 11,\n",
    "subtraia 10 da soma antes de apresentar o resultado. Se o valor da soma passar de\n",
    "21, retorne ‘ESTOUROU’."
   ]
  },
  {
   "cell_type": "code",
   "execution_count": 19,
   "metadata": {},
   "outputs": [
    {
     "data": {
      "text/plain": [
       "'ESTOROU'"
      ]
     },
     "execution_count": 19,
     "metadata": {},
     "output_type": "execute_result"
    }
   ],
   "source": [
    "def blackjack(arg1, arg2, arg3):\n",
    "    soma = arg1 + arg2 + arg3\n",
    "    if soma <= 21:\n",
    "        return soma\n",
    "    else:\n",
    "        if arg1 == 11 or arg2 == 11 or arg3 == 11:\n",
    "            soma = soma - 10\n",
    "        if soma > 21:\n",
    "            return 'ESTOROU'\n",
    "        else:\n",
    "            return soma\n",
    "        \n",
    "blackjack(5,9,9)"
   ]
  },
  {
   "cell_type": "markdown",
   "metadata": {},
   "source": [
    "6 Espião: Escreva uma função que receba uma lista de\n",
    "inteiros e retorne True se contém um 007 em ordem, mesmo\n",
    "que não contínuo. "
   ]
  },
  {
   "cell_type": "code",
   "execution_count": 23,
   "metadata": {},
   "outputs": [
    {
     "data": {
      "text/plain": [
       "False"
      ]
     },
     "execution_count": 23,
     "metadata": {},
     "output_type": "execute_result"
    }
   ],
   "source": [
    "def espiao(arg):\n",
    "    z = False\n",
    "    z1 = False\n",
    "    sete = False\n",
    "    for i in arg:\n",
    "        if i == 0:\n",
    "            if sete is False:\n",
    "                if z is False and z1 is False:\n",
    "                    z = True\n",
    "                elif z is True and z1 is False:\n",
    "                    z1 = True\n",
    "                else:\n",
    "                    return False\n",
    "            else:\n",
    "                return False\n",
    "        elif i == 7:\n",
    "            if z is True and z1 is True:\n",
    "                return True\n",
    "            else:\n",
    "                return False\n",
    "            \n",
    "espiao([1,2,4,0,2,7,0])"
   ]
  }
 ],
 "metadata": {
  "kernelspec": {
   "display_name": "Python 3",
   "language": "python",
   "name": "python3"
  },
  "language_info": {
   "codemirror_mode": {
    "name": "ipython",
    "version": 3
   },
   "file_extension": ".py",
   "mimetype": "text/x-python",
   "name": "python",
   "nbconvert_exporter": "python",
   "pygments_lexer": "ipython3",
   "version": "3.6.4"
  }
 },
 "nbformat": 4,
 "nbformat_minor": 2
}
