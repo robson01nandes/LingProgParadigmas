{
 "cells": [
  {
   "cell_type": "markdown",
   "metadata": {},
   "source": [
    "1 Faça um Programa que peça o raio de um círculo, calcule e mostre sua área."
   ]
  },
  {
   "cell_type": "code",
   "execution_count": 2,
   "metadata": {},
   "outputs": [
    {
     "name": "stdout",
     "output_type": "stream",
     "text": [
      "Raio do círculo: 2\n",
      "Área do círculo:  12.56\n"
     ]
    }
   ],
   "source": [
    "r = float(input('Raio do círculo: '))\n",
    "area = 3.14 * (r ** 2)\n",
    "print ('Área do círculo: ', area)"
   ]
  },
  {
   "cell_type": "markdown",
   "metadata": {},
   "source": [
    "2 Faça um Programa que calcule a área de um quadrado, em seguida mostre o dobro\n",
    "desta área para o usuário."
   ]
  },
  {
   "cell_type": "code",
   "execution_count": 3,
   "metadata": {},
   "outputs": [
    {
     "name": "stdout",
     "output_type": "stream",
     "text": [
      "Lado do quadrado: 2\n",
      "Dobro da area do quadrado: 8.00 m2\n"
     ]
    }
   ],
   "source": [
    "l = float(input('Lado do quadrado: '))\n",
    "area = l * l\n",
    "print ('Dobro da area do quadrado: %.2f' %(area*2))"
   ]
  },
  {
   "cell_type": "markdown",
   "metadata": {},
   "source": [
    "3 Faça um Programa que pergunte quanto você ganha por hora e o número de horas\n",
    "trabalhadas no mês. Calcule e mostre o total do seu salário no referido mês."
   ]
  },
  {
   "cell_type": "code",
   "execution_count": 4,
   "metadata": {},
   "outputs": [
    {
     "name": "stdout",
     "output_type": "stream",
     "text": [
      "Valor por hora: 2\n",
      "Horas trabalhadas no mês: 168\n",
      "Salario: R$  336.0\n"
     ]
    }
   ],
   "source": [
    "vh = float(input('Valor por hora: '))\n",
    "nh = int(input('Horas trabalhadas no mês: '))\n",
    "salario = vh * nh\n",
    "print('Salario: R$ ', salario)"
   ]
  },
  {
   "cell_type": "markdown",
   "metadata": {},
   "source": [
    "4 Faça um Programa que peça a temperatura em graus Farenheit, transforme e\n",
    "mostre a temperatura em graus Celsius. C = (5 * (F-32) / 9)."
   ]
  },
  {
   "cell_type": "code",
   "execution_count": 5,
   "metadata": {},
   "outputs": [
    {
     "name": "stdout",
     "output_type": "stream",
     "text": [
      "Temperatura em Fahrenheit: 12\n",
      "Temperatura em Celsius: -11.11\n"
     ]
    }
   ],
   "source": [
    "tf = float(input('Temperatura em Fahrenheit: '))\n",
    "print ('Temperatura em Celsius: %.2f' %(5/9 * (tf-32)))"
   ]
  },
  {
   "cell_type": "markdown",
   "metadata": {},
   "source": [
    "5 Faça um Programa que peça a temperatura em graus Celsius, transforme e mostre\n",
    "em graus Farenheit."
   ]
  },
  {
   "cell_type": "code",
   "execution_count": 6,
   "metadata": {},
   "outputs": [
    {
     "name": "stdout",
     "output_type": "stream",
     "text": [
      "Temperatura em Celsius: 20\n",
      "Temperatura em Fahrenheit: 68.00\n"
     ]
    }
   ],
   "source": [
    "tc = float(input('Temperatura em Celsius: '))\n",
    "print ('Temperatura em Fahrenheit: %.2f' %(9*tc/5 + 32))"
   ]
  },
  {
   "cell_type": "markdown",
   "metadata": {},
   "source": [
    "6 Faça um Programa que peça 2 números inteiros e um número real. Calcule e\n",
    "mostre:\n",
    "- o produto do dobro do primeiro com metade do segundo .\n",
    "- a soma do triplo do primeiro com o terceiro.\n",
    "- o terceiro elevado ao cubo."
   ]
  },
  {
   "cell_type": "code",
   "execution_count": 7,
   "metadata": {},
   "outputs": [
    {
     "name": "stdout",
     "output_type": "stream",
     "text": [
      "1o Número inteiro: 1\n",
      "2o Número inteiro: 2\n",
      "Número real: 2.5\n",
      "Soma: 2.0\n",
      "Produto: 5.5\n",
      "Cubo: 15.625\n"
     ]
    }
   ],
   "source": [
    "n1 = int(input('1o Número inteiro: '))\n",
    "n2 = int(input('2o Número inteiro: '))\n",
    "n3 = float(input('Número real: '))\n",
    "\n",
    "print ('Soma:', ((2*n1) * (n2/2)))\n",
    "print ('Produto:', (3 * n1) + n3)\n",
    "print ('Cubo:', n3**3)"
   ]
  },
  {
   "cell_type": "markdown",
   "metadata": {},
   "source": [
    "7 João Papo-de-Pescador, homem de bem, comprou um microcomputador para\n",
    "controlar o rendimento diário de seu trabalho. Toda vez que ele traz um peso de\n",
    "peixes maior que o estabelecido pelo regulamento de pesca do estado de São Paulo\n",
    "(50 quilos) deve pagar uma multa de R$ 4,00 por quilo excedente. João precisa que\n",
    "você faça um programa que leia a variável peso (peso de peixes) e verifique se há \n",
    "excesso. Se houver, gravar na variável excesso e na variável multa o valor da multa\n",
    "que João deverá pagar. Caso contrário mostrar tais variáveis com o conteúdo ZERO."
   ]
  },
  {
   "cell_type": "code",
   "execution_count": 8,
   "metadata": {},
   "outputs": [
    {
     "name": "stdout",
     "output_type": "stream",
     "text": [
      "Peso:60\n",
      "Peso: 60.00 Kg\n",
      "Excesso: 10.00 Kg\n",
      "Multa: R$ 40.00\n"
     ]
    }
   ],
   "source": [
    "peso = float(input('Peso:'))\n",
    "if peso > 50:\n",
    "\texcedente = peso - 50\n",
    "\tmulta = excedente * 4\n",
    "else:\n",
    "\texcedente = 0\n",
    "\tmulta = 0\n",
    "print ('Peso: %.2f Kg' %peso)\n",
    "print ('Excesso: %.2f Kg' %excedente)\n",
    "print ('Multa: R$ %.2f' %multa)"
   ]
  },
  {
   "cell_type": "markdown",
   "metadata": {},
   "source": [
    "8 Faça um Programa que pergunte quanto você ganha por hora e o número de horas\n",
    "trabalhadas no mês. Calcule e mostre o total do seu salário no referido mês,\n",
    "sabendo-se que são descontados 11% para o Imposto de Renda, 8% para o INSS e 5%\n",
    "para o sindicato, faça um programa que nos dê:\n",
    "- salário bruto.\n",
    "- quanto pagou ao INSS.\n",
    "- quanto pagou ao sindicato.\n",
    "- o salário líquido.\n",
    "- calcule os descontos e o salário líquido, conforme a tabela abaixo:\n",
    " + Salário Bruto : R$\n",
    " - IR (11%) : R$\n",
    " - INSS (8%) : R$\n",
    " - Sindicato ( 5%) : R$\n",
    " = Salário Liquido : R$\n",
    "Obs.: Salário Bruto - Descontos = Salário Líquido."
   ]
  },
  {
   "cell_type": "code",
   "execution_count": 12,
   "metadata": {},
   "outputs": [
    {
     "name": "stdout",
     "output_type": "stream",
     "text": [
      "Valor da hora:30\n",
      "Quantidade de horas trabalhadas:168\n",
      " + Salário Bruto: R$ 5040.00\n",
      " - IR: R$ 554.40\n",
      " - INSS: R$ 403.20\n",
      " - Sindicato: R$ 252.00\n",
      " = Salário Liquido: R$ 3830.40\n"
     ]
    }
   ],
   "source": [
    "vh = float(input('Valor da hora:'))\n",
    "qh = int(input('Quantidade de horas trabalhadas:'))\n",
    "\n",
    "salario_bruto = vh * qh\n",
    "inss = 8/100 * salario_bruto\n",
    "sindicato = 5/100 * salario_bruto\n",
    "ir = 11/100 * salario_bruto\n",
    "\n",
    "salario_liquido = salario_bruto - inss - sindicato - ir\n",
    "\n",
    "print (' + Salário Bruto: R$ %.2f' %salario_bruto)\n",
    "print (' - IR: R$ %.2f' %ir)\n",
    "print (' - INSS: R$ %.2f' %inss)\n",
    "print (' - Sindicato: R$ %.2f' %sindicato)\n",
    "print (' = Salário Liquido: R$ %.2f' %salario_liquido)"
   ]
  },
  {
   "cell_type": "markdown",
   "metadata": {},
   "source": [
    "Strings\n",
    "9 Faça um programa que leia 2 strings e informe o conteúdo delas seguido do seu\n",
    "comprimento. Informe também se as duas strings possuem o mesmo comprimento e\n",
    "são iguais ou diferentes no conteúdo.\n",
    "Exemplo:\n",
    "String 1: Brasil Hexa 2018\n",
    "String 2: Brasil! Hexa 2018!\n",
    "Tamanho de \"Brasil Hexa 2018\": 16 caracteres\n",
    "Tamanho de \"Brasil! Hexa 2018!\": 18 caracteres\n",
    "As duas strings são de tamanhos diferentes.\n",
    "As duas strings possuem conteúdo diferente."
   ]
  },
  {
   "cell_type": "code",
   "execution_count": 14,
   "metadata": {},
   "outputs": [
    {
     "name": "stdout",
     "output_type": "stream",
     "text": [
      "Compara duas strings\n",
      "String 1: as\n",
      "String 2: sa\n",
      "Tamanho de \"as\": 2 caracteres\n",
      "Tamanho de \"sa\": 2 caracteres\n",
      "As duas strings tem tamanho igual\n",
      "As duas strings possuem conteudo diferente\n"
     ]
    }
   ],
   "source": [
    "print ('Compara duas strings')\n",
    "string1 = input('String 1: ')\n",
    "string2 = input('String 2: ')\n",
    "\n",
    "print ('Tamanho de \"%s\": %d caracteres' % (string1, len(string1)))\n",
    "print ('Tamanho de \"%s\": %d caracteres' % (string2, len(string2)))\n",
    "\n",
    "if (len(string1) != len(string2)):\n",
    "    print ('As duas strings sao de tamanhos diferentes')\n",
    "    print ('As duas strings possuem conteudo diferente')\n",
    "else:\n",
    "    print ('As duas strings tem tamanho igual')\n",
    "    if (string1 == string2):\n",
    "        print ('As duas strings possuem o mesmo conteudo')\n",
    "    else:\n",
    "        print ('As duas strings possuem conteudo diferente')"
   ]
  },
  {
   "cell_type": "markdown",
   "metadata": {},
   "source": [
    "10 Faça um programa que permita ao usuário digitar o seu nome e em seguida\n",
    "mostre o nome do usuário de trás para frente utilizando somente letras maiúsculas.\n",
    "Dica: lembre−se que ao informar o nome o usuário pode digitar letras maiúsculas ou\n",
    "minúsculas. Observação: não use loops."
   ]
  },
  {
   "cell_type": "code",
   "execution_count": 15,
   "metadata": {},
   "outputs": [
    {
     "name": "stdout",
     "output_type": "stream",
     "text": [
      "Informe seu nome: igor\n",
      "ROGI\n"
     ]
    }
   ],
   "source": [
    "nome = input('Informe seu nome: ')\n",
    "print (nome.upper()[::-1])"
   ]
  },
  {
   "cell_type": "markdown",
   "metadata": {},
   "source": [
    "11 Faça um programa que solicite a data de nascimento (dd/mm/aaaa) do usuário e\n",
    "imprima a data com o nome do mês por extenso.\n",
    "Data de Nascimento: 29/10/1973\n",
    "Você nasceu em 29 de Outubro de 1973.\n",
    "Obs.: Não use desvio condicional nem loops."
   ]
  },
  {
   "cell_type": "code",
   "execution_count": 16,
   "metadata": {},
   "outputs": [
    {
     "name": "stdout",
     "output_type": "stream",
     "text": [
      "Informe uma data no formato dd/mm/yyyy: 30/05/1998\n",
      "30 de Maio de 1998\n"
     ]
    }
   ],
   "source": [
    "def dataPorExtenso(data):\n",
    "\n",
    "    dia = int(data[:2])\n",
    "    mes = int(data[3:5])\n",
    "    ano = int(data[6:])\n",
    "\n",
    "    mesExtenso = ('Janeiro', 'Fevereiro', 'Marco', 'Abril', 'Maio', 'Junho',\n",
    "                  'Julho', 'Agosto', 'Setembro', 'Outubro', 'Novembro',\n",
    "                  'Dezembro')\n",
    "\n",
    "    return '%d de %s de %d' % (dia, mesExtenso[mes - 1], ano)\n",
    "\n",
    "data = input('Informe uma data no formato dd/mm/yyyy: ')\n",
    "print (dataPorExtenso(data))"
   ]
  },
  {
   "cell_type": "markdown",
   "metadata": {},
   "source": [
    "12 Leet é uma forma de se escrever o alfabeto latino usando outros símbolos em\n",
    "lugar das letras, como números por exemplo. A própria palavra leet admite muitas\n",
    "variações, como l33t ou 1337. O uso do leet reflete uma subcultura relacionada ao\n",
    "mundo dos jogos de computador e internet, sendo muito usada para confundir os\n",
    "iniciantes e afirmar-se como parte de um grupo. Pesquise sobre as principais formas\n",
    "de traduzir as letras. Depois, faça um programa que peça uma texto e transforme-o\n",
    "para a grafia leet speak."
   ]
  },
  {
   "cell_type": "code",
   "execution_count": 18,
   "metadata": {},
   "outputs": [
    {
     "name": "stdout",
     "output_type": "stream",
     "text": [
      "Informe um texto: chocolate\n",
      "Texto em Leet Spek:\n",
      "<\n",
      "#\n",
      "0\n",
      "<\n",
      "0\n",
      "|_\n",
      "4\n",
      "7\n",
      "&\n"
     ]
    }
   ],
   "source": [
    "leet = {\n",
    "    'A': '4',\n",
    "    'B': '8',\n",
    "    'C': '<',\n",
    "    'D': '[)',\n",
    "    'E': '&',\n",
    "    'F': 'ph',\n",
    "    'G': '6',\n",
    "    'H': '#',\n",
    "    'I': '1',\n",
    "    'J': 'j',\n",
    "    'K': '|<',\n",
    "    'L': '|_',\n",
    "    'M': '|\\/|',\n",
    "    'N': '/\\/',\n",
    "    'O': '0',\n",
    "    'P': '|*',\n",
    "    'Q': '9',\n",
    "    'R': 'l2',\n",
    "    'S': '5',\n",
    "    'T': '7',\n",
    "    'U': 'v',\n",
    "    'V': 'V',\n",
    "    'W': 'vv',\n",
    "    'X': '><',\n",
    "    'Y': '`/',\n",
    "    'Z': '2'\n",
    "}\n",
    "\n",
    "texto = input('Informe um texto: ')\n",
    "print ('Texto em Leet Spek:')\n",
    "\n",
    "for i in texto.upper():\n",
    "    if i.isalpha():\n",
    "        print (leet[i]),\n",
    "    else:\n",
    "        print (' '),"
   ]
  },
  {
   "cell_type": "code",
   "execution_count": null,
   "metadata": {},
   "outputs": [],
   "source": []
  }
 ],
 "metadata": {
  "kernelspec": {
   "display_name": "Python 3",
   "language": "python",
   "name": "python3"
  },
  "language_info": {
   "codemirror_mode": {
    "name": "ipython",
    "version": 3
   },
   "file_extension": ".py",
   "mimetype": "text/x-python",
   "name": "python",
   "nbconvert_exporter": "python",
   "pygments_lexer": "ipython3",
   "version": "3.6.4"
  }
 },
 "nbformat": 4,
 "nbformat_minor": 2
}
