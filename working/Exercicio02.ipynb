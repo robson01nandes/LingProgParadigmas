{
 "cells": [
  {
   "cell_type": "markdown",
   "metadata": {},
   "source": [
    "Listas\n",
    "1 Crie um programa que recebe uma lista de números e\n",
    "- retorne o maior elemento\n",
    "- retorne a soma dos elementos\n",
    "- retorne o número de ocorrências do primeiro elemento da lista\n",
    "- retorne a média dos elementos\n",
    "- retorne o valor mais próximo da média dos elementos\n",
    "- retorne a soma dos elementos com valor negativo\n",
    "- retorne a quantidade de vizinhos iguais"
   ]
  },
  {
   "cell_type": "code",
   "execution_count": 3,
   "metadata": {},
   "outputs": [
    {
     "name": "stdout",
     "output_type": "stream",
     "text": [
      "Maior elemento  403\n",
      "Soma dos valores 666\n",
      "Primeiro elemento:  20\n",
      "Média dos valores:  133.2\n",
      "Negativo: - 666\n"
     ]
    }
   ],
   "source": [
    "lista = [20,10,203,403,30]\n",
    "soma = 0\n",
    "\n",
    "print(\"Maior elemento \",max(lista))\n",
    "\n",
    "\n",
    "for l in lista:\n",
    "    soma = soma + l\n",
    "    \n",
    "print(\"Soma dos valores\", soma)\n",
    "print(\"Primeiro elemento: \",lista[0])\n",
    "print(\"Média dos valores: \", soma/len(lista))\n",
    "print(\"Negativo: -\",soma)"
   ]
  },
  {
   "cell_type": "markdown",
   "metadata": {},
   "source": [
    "2 Faça um programa que receba duas listas e retorne True se são iguais ou False caso\n",
    "contrario.\n",
    "Duas listas são iguais se possuem os mesmos valores e na mesma ordem."
   ]
  },
  {
   "cell_type": "code",
   "execution_count": 7,
   "metadata": {},
   "outputs": [
    {
     "data": {
      "text/plain": [
       "False"
      ]
     },
     "execution_count": 7,
     "metadata": {},
     "output_type": "execute_result"
    }
   ],
   "source": [
    "\n",
    "lista = [1,2,23,43,3]\n",
    "lista1 = [2,1,23,43,3]\n",
    "\n",
    "lista == lista1"
   ]
  },
  {
   "cell_type": "markdown",
   "metadata": {},
   "source": [
    "2 Faça um programa que receba duas listas e retorne True se são iguais ou False caso\n",
    "contrario.\n",
    "Duas listas são iguais se possuem os mesmos valores e na mesma ordem."
   ]
  },
  {
   "cell_type": "code",
   "execution_count": null,
   "metadata": {},
   "outputs": [],
   "source": []
  },
  {
   "cell_type": "markdown",
   "metadata": {},
   "source": [
    "3 Faça um programa que receba duas listas e retorne True se têm os mesmos\n",
    "elementos ou False caso contrário\n",
    "Duas listas possuem os mesmos elementos quando são compostas pelos mesmos\n",
    "valores, mas não obrigatoriamente na mesma ordem."
   ]
  },
  {
   "cell_type": "code",
   "execution_count": 3,
   "metadata": {},
   "outputs": [
    {
     "name": "stdout",
     "output_type": "stream",
     "text": [
      "True\n"
     ]
    }
   ],
   "source": [
    "def equals(list1, list2):\n",
    "    list1.sort()\n",
    "    list2.sort()\n",
    "    if len(list1) == len(list2):\n",
    "        for i in range(0, len(list1)):\n",
    "            if list1[i] != list2[i]:\n",
    "                return False\n",
    "        return True\n",
    "    return False\n",
    "\n",
    "list1 = [15, 30, 60]\n",
    "list2 = [15, 60, 30]\n",
    "print(equals(list1, list2))"
   ]
  },
  {
   "cell_type": "markdown",
   "metadata": {},
   "source": [
    "4 Faça um programa que percorre uma lista com o seguinte formato: [['Brasil',\n",
    "'Italia', [10, 9]], ['Brasil', 'Espanha', [5, 7]], ['Italia', 'Espanha', [7,8]]]. Essa lista indica o\n",
    "número de faltas que cada time fez em cada jogo. Na lista acima, no jogo entre Brasil\n",
    "e Itália, o Brasil fez 10 faltas e a Itália fez 9.\n",
    "O programa deve imprimir na tela:\n",
    "- o total de faltas do campeonato\n",
    "- o time que fez mais faltas\n",
    "- o time que fez menos faltas"
   ]
  },
  {
   "cell_type": "code",
   "execution_count": 7,
   "metadata": {},
   "outputs": [
    {
     "name": "stdout",
     "output_type": "stream",
     "text": [
      "Deseja adicionar mais um time a lista : s\n",
      "Digite o nome do primeiro time : A\n",
      "Digite faltas do primeiro time : 12\n",
      "Digite o nome do segundo time : B\n",
      "Digite faltas do segundo time : 8\n",
      " Deseja adicionar outro time ? : m\n",
      " Total de falta =  59  \n",
      " Maior quantidade de faltas =  A  \n",
      " Menor quantidade de faltas =  Italia\n"
     ]
    }
   ],
   "source": [
    "time = [['Brasil', 'Italia', [10, 2]],['Brasil', 'Espanha', [5, 7]],['Italia', 'Espanha', [7,8]]]\n",
    "continuar = 's'\n",
    "\n",
    "def menos_faltas (time):\n",
    "    menor = time[0][2][0]\n",
    "    for i in range(len(time)):\n",
    "        for j in range(2):\n",
    "             if time[i][2][j]<menor:\n",
    "                 menor = time[i][2][j]\n",
    "                 time_menor = time[i][j]\n",
    "    return time_menor\n",
    "\n",
    "def mais_faltas (time):\n",
    "    time_maior = time[0][0]\n",
    "    maior = time[0][2][0]\n",
    "    for i in range(len(time)):\n",
    "        for j in range(2):\n",
    "             if time[i][2][j]>maior:\n",
    "                 maior = time[i][2][j]\n",
    "                 time_maior = time[i][j]\n",
    "    return time_maior\n",
    "\n",
    "def total_faltas (time):\n",
    "    soma = 0\n",
    "    for i in range(len(time)):\n",
    "        for j in range(2):\n",
    "            soma += time[i][2][j]\n",
    "    return soma\n",
    "\n",
    "\n",
    "def adicionar_time (time):\n",
    "    time_1 = input('Digite o nome do primeiro time : ')\n",
    "    faltas_1 = int(input('Digite faltas do primeiro time : '))\n",
    "    time_2 = input('Digite o nome do segundo time : ')\n",
    "    faltas_2 = int(input('Digite faltas do segundo time : '))\n",
    "    time.append([time_1,time_2,[int(faltas_1),int(faltas_2)]])\n",
    "    return (time)\n",
    "\n",
    "while continuar in ['s','S','Sim','sim']:\n",
    "    adicionar = input('Deseja adicionar mais um time a lista : ')\n",
    "    if adicionar in ['s','S','Sim','sim']:\n",
    "        adicionar_time(time)\n",
    "        continuar = input(' Deseja adicionar outro time ? : ')\n",
    "\n",
    "print(' Total de falta = ',total_faltas(time),' \\n Maior quantidade de faltas = ',mais_faltas(time),' \\n Menor quantidade de faltas = ',menos_faltas(time))"
   ]
  },
  {
   "cell_type": "markdown",
   "metadata": {},
   "source": [
    "5 Escreva um programa que conta a quantidade de vogais em uma string e armazena\n",
    "tal quantidade em um dicionário, onde a chave é a vogal considerada."
   ]
  },
  {
   "cell_type": "code",
   "execution_count": 9,
   "metadata": {},
   "outputs": [
    {
     "name": "stdout",
     "output_type": "stream",
     "text": [
      "{'a': 4, 'e': 3, 'i': 0, 'o': 2, 'u': 2}\n"
     ]
    }
   ],
   "source": [
    "dic = {}\n",
    "vogais = ['a', 'e', 'i', 'o', 'u']\n",
    "\n",
    "for v in vogais:\n",
    "    dic[v] = 0\n",
    "    \n",
    "frase = \"Escreva um programa que conta\"\n",
    "\n",
    "for c in frase.lower():\n",
    "    if c in vogais:\n",
    "        dic[c] += 1\n",
    "print(dic)"
   ]
  },
  {
   "cell_type": "markdown",
   "metadata": {},
   "source": [
    "6 Escreva um programa que lê̂duas notas de vários alunos e armazena tais notas em\n",
    "um dicionário, onde a chave é o nome do aluno. A entrada de dados deve terminar\n",
    "quando for lida uma string vazia como nome. Escreva uma função que retorna a\n",
    "média do aluno, dado seu nome."
   ]
  },
  {
   "cell_type": "code",
   "execution_count": 12,
   "metadata": {},
   "outputs": [
    {
     "name": "stdout",
     "output_type": "stream",
     "text": [
      "Nome: xx2\n",
      "Nota 1: 2\n",
      "Nota 2: 2\n",
      "Nome: \n",
      "{0: {'nome': 'xx2', 'notas': 2.0}}\n"
     ]
    }
   ],
   "source": [
    "nome = (input(\"Nome: \"));\n",
    "i = 0\n",
    "while(nome != ''):\n",
    "    nota1 = float(input(\"Nota 1: \"));\n",
    "    nota2 = float(input(\"Nota 2: \"));\n",
    "\n",
    "    dic = {}\n",
    "\n",
    "    dic[i] = {'nome' : nome, 'notas': (nota1+nota2)/2}\n",
    "    i = i + 1\n",
    "    nome = (input(\"Nome: \"));\n",
    "print(dic)"
   ]
  },
  {
   "cell_type": "markdown",
   "metadata": {},
   "source": [
    "7 Uma pista de Kart permite 10 voltas para cada um de 6 corredores. Escreva um\n",
    "programa que leia todos os tempos em segundos e os guarde em um dicionário,\n",
    "onde a chave é o nome do corredor. Ao final diga de quem foi a melhor volta da\n",
    "prova e em que volta; e ainda a classificação final em ordem (1o o campeão). O\n",
    "campeão é o que tem a menor média de tempos."
   ]
  },
  {
   "cell_type": "code",
   "execution_count": null,
   "metadata": {},
   "outputs": [],
   "source": []
  },
  {
   "cell_type": "markdown",
   "metadata": {},
   "source": [
    "8 Escreva um programa para armazenar uma agenda de telefones em um dicionário.\n",
    "Cada pessoa pode ter um ou mais telefones e a chave do dicionário é o nome da\n",
    "pessoa. Seu programa deve ter as seguintes funções:\n",
    "- incluirNovoNome – essa função acrescenta um novo nome na agenda, com um ou\n",
    "mais telefones. Ela deve receber como argumentos o nome e os telefones.\n",
    "- incluirTelefone – essa função acrescenta um telefone em um nome existente na\n",
    "agenda. Caso o nome não exista na agenda, você̂deve perguntar se a pessoa deseja\n",
    "inclui-lo. Caso a resposta seja afirmativa, use a função anterior para incluir o novo\n",
    "nome.\n",
    "- excluirTelefone – essa função exclui um telefone de uma pessoa que já está na\n",
    "agenda. Se a pessoa tiver apenas um telefone, ela deve ser excluída da agenda.\n",
    "- excluirNome – essa função exclui uma pessoa da agenda.\n",
    "- consultarTelefone – essa função retorna os telefones de uma pessoa na agenda."
   ]
  },
  {
   "cell_type": "code",
   "execution_count": 14,
   "metadata": {},
   "outputs": [
    {
     "name": "stdout",
     "output_type": "stream",
     "text": [
      "\n",
      "Escolha uma opção: \n",
      "1 - Incluir Novo Nome\n",
      "2 - Incluir Telefone\n",
      "3 - Excluir Telefone\n",
      "4 - Consultar Agenda\n",
      "0 - Encerrar Programa\n",
      "1\n",
      "Insira o nome: igor\n",
      "Insira o telefone: 12312312336\n",
      "Inserir outro telefone (ou digite 0 para parar): 0\n",
      "\n",
      "Escolha uma opção: \n",
      "1 - Incluir Novo Nome\n",
      "2 - Incluir Telefone\n",
      "3 - Excluir Telefone\n",
      "4 - Consultar Agenda\n",
      "0 - Encerrar Programa\n",
      "4\n",
      "Insira o nome: igor\n",
      "[12312312336]\n",
      "\n",
      "Escolha uma opção: \n",
      "1 - Incluir Novo Nome\n",
      "2 - Incluir Telefone\n",
      "3 - Excluir Telefone\n",
      "4 - Consultar Agenda\n",
      "0 - Encerrar Programa\n",
      "0\n"
     ]
    }
   ],
   "source": [
    "agenda = {}\n",
    "\n",
    "def incluirNovoNome(nome, telefones):\n",
    "    agenda[nome] = telefones\n",
    "    \n",
    "def incluirTelefone(nome, telefone):\n",
    "    if nome in agenda.keys():\n",
    "        agenda[nome].append(telefone)\n",
    "    else:\n",
    "        if input(\"Nome não encontrado, incluir nome na agenda (s/n)? \") == \"s\":\n",
    "            telefones = [telefone]\n",
    "            incluirNovoNome(nome, telefones)\n",
    "            \n",
    "def excluirTelefone(nome, telefone):\n",
    "    if nome in agenda.keys():\n",
    "        if len(agenda[nome]) == 1:\n",
    "            del agenda[nome]\n",
    "        else:\n",
    "            for num in range(0, len(agenda[nome]) - 1):\n",
    "                if telefone == agenda[nome][num]:\n",
    "                    agenda[nome].pop(num)\n",
    "        \n",
    "def consultarTelefone(nome):\n",
    "    if nome in agenda.keys():\n",
    "        print(agenda[nome])\n",
    "    \n",
    "opcao = -1\n",
    "while opcao != 0:\n",
    "    opcao = int(input(\"\\nEscolha uma opção: \\n1 - Incluir Novo Nome\\n2 - Incluir Telefone\\n3 - Excluir Telefone\\n4 - Consultar Agenda\\n0 - Encerrar Programa\\n\"))\n",
    "    \n",
    "    # NOME\n",
    "    if opcao == 1:\n",
    "        nome = input(\"Insira o nome: \")\n",
    "        telefones = []\n",
    "        telefones.append(int(input(\"Insira o telefone: \")))\n",
    "        telefone = -1\n",
    "        while telefone != 0:\n",
    "            telefone = int(input(\"Inserir outro telefone (ou digite 0 para parar): \"))\n",
    "            if telefone != 0:\n",
    "                telefones.append(telefone)\n",
    "        incluirNovoNome(nome, telefones)\n",
    "    # TELEFONE\n",
    "    elif opcao == 2:\n",
    "        nome = input(\"Insira o nome: \")\n",
    "        telefone = int(input(\"Insira o telefone: \"))\n",
    "        incluirTelefone(nome, telefone)\n",
    "    # REMOVENDO TELEFONE\n",
    "    elif opcao == 3:\n",
    "        nome = input(\"Insira o nome: \")\n",
    "        telefone = int(input(\"Insira o telefone que deseja excluir: \"))\n",
    "        excluirTelefone(nome, telefone)\n",
    "    elif opcao == 4:\n",
    "        consultarTelefone(input(\"Insira o nome: \"))\n",
    "        \n",
    "        "
   ]
  },
  {
   "cell_type": "markdown",
   "metadata": {},
   "source": [
    "9 Faça um programa que leia um arquivo texto contendo uma lista de endereços IP e\n",
    "gere um outro arquivo, contendo um relatório dos endereços IP válidos e inválidos."
   ]
  },
  {
   "cell_type": "code",
   "execution_count": 4,
   "metadata": {
    "scrolled": false
   },
   "outputs": [],
   "source": [
    "def validaIP(ipAddress):\n",
    "    blocos = ipAddress.split('.')\n",
    "    if (len(blocos) != 4):\n",
    "        return False\n",
    "    for i in blocos:\n",
    "        i_i = int(i)\n",
    "        if (i_i < 0) or (i_i > 255):\n",
    "            return False\n",
    "    return True\n",
    "\n",
    "arquivoEntrada = open('entrada.txt', 'r')\n",
    "linhas = arquivoEntrada.readlines()\n",
    "arquivoEntrada.close()\n",
    "\n",
    "ipsValidos = []\n",
    "ipsInvalidos = []\n",
    "\n",
    "for ip in linhas:\n",
    "    if (validaIP(ip.strip())):\n",
    "        ipsValidos.append(ip.strip())\n",
    "    else:\n",
    "        ipsInvalidos.append(ip.strip())\n",
    "\n",
    "arquivoSaida = open('saida.txt', 'w')\n",
    "\n",
    "arquivoSaida.write('[IPs Validos]\\n')\n",
    "for ip in ipsValidos:\n",
    "    arquivoSaida.write('%s\\n' % ip)\n",
    "\n",
    "arquivoSaida.write('\\n[IPs Invalidos]\\n')\n",
    "for ip in ipsInvalidos:\n",
    "    arquivoSaida.write('%s\\n' % ip)\n",
    "\n",
    "arquivoSaida.close()"
   ]
  },
  {
   "cell_type": "markdown",
   "metadata": {},
   "source": [
    "10 A ACME Inc., uma empresa de 500 funcionários, está tendo problemas de espaço\n",
    "em disco no seu servidor de arquivos. Para tentar resolver este problema, o\n",
    "Administrador de Rede precisa saber qual o espaço ocupado pelos usuários, e\n",
    "identificar os usuários com maior espaço ocupado. Através de um programa, baixado\n",
    "da Internet, ele conseguiu gerar o seguinte arquivo, chamado \"usuarios.txt\":"
   ]
  },
  {
   "cell_type": "code",
   "execution_count": null,
   "metadata": {},
   "outputs": [],
   "source": [
    "arquivoEntrada = open('02_entrada.txt', 'r')\n",
    "\n",
    "linhas = arquivoEntrada.readlines()\n",
    "\n",
    "arquivoEntrada.close()\n",
    "\n",
    "usuarios = []\n",
    "espacosUtilizados = []\n",
    "espacoTotal = 0.0\n",
    "for linha in linhas:\n",
    "    campos = linha.split()\n",
    "    usuario = campos[0]\n",
    "    espacoUtilizado = int(campos[1])\n",
    "    usuarios.append(usuario)\n",
    "    espacosUtilizados.append(espacoUtilizado)\n",
    "    espacoTotal += espacoUtilizado\n",
    "\n",
    "arquivoSaida = open('02_saida.txt', 'w')\n",
    "\n",
    "arquivoSaida.write(\n",
    "    'ACME Inc.               Uso do espaco em disco pelos usuarios\\n')\n",
    "arquivoSaida.write(\n",
    "    '------------------------------------------------------------------------')\n",
    "arquivoSaida.write('\\nNr.  Usuario        Espaco utilizado     %% do uso')\n",
    "\n",
    "for i in range(0, len(usuarios)):\n",
    "    espacoMB = espacosUtilizados[i] / (1024.0 * 1024.0)\n",
    "    percentualUso = espacosUtilizados[i] / espacoTotal\n",
    "    arquivoSaida.write('\\n%d - %s - %.2f MB - %.2f%%' %\n",
    "                       (i + 1, usuarios[i], espacoMB, percentualUso * 100.0))\n",
    "\n",
    "arquivoSaida.write('\\nEspaco total ocupado: %.2f MB' %\n",
    "                   (espacoTotal / (1024.0 * 1024.0)))\n",
    "arquivoSaida.write('\\nEspaco medio ocupado: %.2f MB' %\n",
    "                   (espacoTotal / len(usuarios) / (1024.0 * 1024.0)))\n",
    "\n",
    "arquivoSaida.close()"
   ]
  },
  {
   "cell_type": "code",
   "execution_count": null,
   "metadata": {},
   "outputs": [],
   "source": []
  }
 ],
 "metadata": {
  "kernelspec": {
   "display_name": "Python 3",
   "language": "python",
   "name": "python3"
  },
  "language_info": {
   "codemirror_mode": {
    "name": "ipython",
    "version": 3
   },
   "file_extension": ".py",
   "mimetype": "text/x-python",
   "name": "python",
   "nbconvert_exporter": "python",
   "pygments_lexer": "ipython3",
   "version": "3.6.4"
  }
 },
 "nbformat": 4,
 "nbformat_minor": 2
}
